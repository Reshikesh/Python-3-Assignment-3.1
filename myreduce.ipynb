{
 "cells": [
  {
   "cell_type": "markdown",
   "metadata": {},
   "source": [
    "Problem Statement 1: myreduce function similar to Reduce function"
   ]
  },
  {
   "cell_type": "code",
   "execution_count": 9,
   "metadata": {},
   "outputs": [
    {
     "data": {
      "text/plain": [
       "120"
      ]
     },
     "execution_count": 9,
     "metadata": {},
     "output_type": "execute_result"
    }
   ],
   "source": [
    "#myreduce function definition\n",
    "def myreduce(myfunc, l):\n",
    "    temp_list=l\n",
    "    i=0\n",
    "    while(i<len(l)):\n",
    "        if(i<len(l)-1):\n",
    "            temp_list[i+1]=myfunc(temp_list[i],temp_list[i+1])\n",
    "        i=i+1\n",
    "    return temp_list[i-1]\n",
    "\n",
    "#calling the myreduce function\n",
    "myreduce (lambda x,y:x*y,list(range(1,6)))       "
   ]
  },
  {
   "cell_type": "code",
   "execution_count": null,
   "metadata": {},
   "outputs": [],
   "source": []
  }
 ],
 "metadata": {
  "kernelspec": {
   "display_name": "Python 3",
   "language": "python",
   "name": "python3"
  },
  "language_info": {
   "codemirror_mode": {
    "name": "ipython",
    "version": 3
   },
   "file_extension": ".py",
   "mimetype": "text/x-python",
   "name": "python",
   "nbconvert_exporter": "python",
   "pygments_lexer": "ipython3",
   "version": "3.6.4"
  }
 },
 "nbformat": 4,
 "nbformat_minor": 2
}
